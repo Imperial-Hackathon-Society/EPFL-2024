{
 "cells": [
  {
   "cell_type": "code",
   "execution_count": 3,
   "metadata": {},
   "outputs": [],
   "source": [
    "import time\n",
    "\n",
    "import matplotlib.pyplot as plt\n",
    "import numpy as np\n",
    "import pandas as pd\n",
    "from concrete.compiler import check_gpu_available\n",
    "from joblib import Memory\n",
    "from sklearn.datasets import fetch_openml\n",
    "from sklearn.metrics import accuracy_score\n",
    "from sklearn.model_selection import train_test_split\n",
    "from sklearn.preprocessing import LabelEncoder\n",
    "from torch import nn\n",
    "\n",
    "from PIL import Image\n",
    "import os\n",
    "\n",
    "from concrete.ml.sklearn import NeuralNetClassifier"
   ]
  },
  {
   "cell_type": "code",
   "execution_count": 4,
   "metadata": {},
   "outputs": [],
   "source": [
    "# Preliminary data analysis\n",
    "# Load skin dataset\n",
    "\n",
    "# Load data from archive \n",
    "metadata = pd.read_csv('archive/HAM10000_metadata.csv')\n",
    "\n",
    "\n",
    "image_dir = 'archive/HAM10000_images_part_1'\n",
    "\n",
    "# Initialize an empty list to store the image matrices\n",
    "X = []\n",
    "y = []\n",
    "count = 0\n",
    "label_dict = {}\n",
    "\n",
    "# Loop through each image file in the directory\n",
    "for filename in os.listdir(image_dir):\n",
    "    if count < 1000:\n",
    "        count += 1\n",
    "        if filename.endswith('.jpg') or filename.endswith('.png'):  # Add other image formats if needed\n",
    "            # Open each image using PIL\n",
    "            img_path = os.path.join(image_dir, filename)\n",
    "            img = Image.open(img_path)\n",
    "\n",
    "            img = img.resize((128, 128))\n",
    "            \n",
    "            # Convert the image to a NumPy array\n",
    "            img_array = np.array(img)\n",
    "            img_array = img_array / 255.0\n",
    "\n",
    "            # grey scale\n",
    "            img_array = np.array(np.dot(img_array[...,:3], [0.299, 0.587, 0.114]))\n",
    "\n",
    "            # Convert to Float32\n",
    "            img_array = img_array.astype('float32')\n",
    "            \n",
    "            # Append the NumPy array to the list\n",
    "            metadata_row = metadata.loc[metadata['image_id'] == filename[:-4]]\n",
    "            X.append(img_array)\n",
    "            \n",
    "            label = metadata_row['dx'].values[0]\n",
    "\n",
    "            if label not in label_dict:\n",
    "                label_dict[label] = 0\n",
    "            else:\n",
    "                label_dict[label] += 1\n",
    "\n",
    "            # Append the label to the list \n",
    "            y.append(label)\n",
    "\n",
    "# Convert lists to NumPy arrays\n",
    "X = np.array(X)\n",
    "y = np.array(y)\n",
    "\n",
    "# Flatten the images if necessary\n",
    "X = X.reshape(X.shape[0], -1)\n",
    "\n",
    "# Encode labels\n",
    "label_encoder = LabelEncoder()\n",
    "y = label_encoder.fit_transform(y)\n",
    "\n",
    "# Optionally, split the data into training and testing sets\n",
    "X_train, X_test, y_train, y_test = train_test_split(X, y, test_size=0.2, random_state=42)"
   ]
  },
  {
   "cell_type": "code",
   "execution_count": 5,
   "metadata": {},
   "outputs": [
    {
     "name": "stdout",
     "output_type": "stream",
     "text": [
      "{'nv': 718, 'bkl': 105, 'mel': 80, 'bcc': 49, 'akiec': 22, 'df': 10, 'vasc': 9}\n"
     ]
    }
   ],
   "source": [
    "print(label_dict)"
   ]
  },
  {
   "cell_type": "code",
   "execution_count": 5,
   "metadata": {},
   "outputs": [
    {
     "name": "stdout",
     "output_type": "stream",
     "text": [
      "5\n",
      "5\n",
      "5\n",
      "2\n",
      "4\n"
     ]
    }
   ],
   "source": [
    "for i in range(5):\n",
    "    print(y[i])\n",
    "    Image.fromarray(X[i] * 255).show()"
   ]
  },
  {
   "cell_type": "code",
   "execution_count": 6,
   "metadata": {},
   "outputs": [],
   "source": [
    "x_train, x_test, y_train, y_test = train_test_split(X, y, test_size=0.2, random_state=42)"
   ]
  },
  {
   "cell_type": "code",
   "execution_count": 7,
   "metadata": {},
   "outputs": [
    {
     "name": "stdout",
     "output_type": "stream",
     "text": [
      "(16384,)\n"
     ]
    }
   ],
   "source": [
    "print(x_train[0].shape)"
   ]
  },
  {
   "cell_type": "code",
   "execution_count": 8,
   "metadata": {},
   "outputs": [],
   "source": [
    "params = {\n",
    "    \"module__n_layers\": 3,\n",
    "    \"module__activation_function\": nn.ReLU,\n",
    "    \"max_epochs\": 1000,\n",
    "    \"verbose\": 0,\n",
    "}\n",
    "\n",
    "model = NeuralNetClassifier(**params)"
   ]
  },
  {
   "cell_type": "code",
   "execution_count": 1,
   "metadata": {},
   "outputs": [
    {
     "ename": "NameError",
     "evalue": "name 'model' is not defined",
     "output_type": "error",
     "traceback": [
      "\u001b[0;31m---------------------------------------------------------------------------\u001b[0m",
      "\u001b[0;31mNameError\u001b[0m                                 Traceback (most recent call last)",
      "Cell \u001b[0;32mIn[1], line 1\u001b[0m\n\u001b[0;32m----> 1\u001b[0m \u001b[43mmodel\u001b[49m\u001b[38;5;241m.\u001b[39mfit(X\u001b[38;5;241m=\u001b[39mx_train, y\u001b[38;5;241m=\u001b[39my_train)\n",
      "\u001b[0;31mNameError\u001b[0m: name 'model' is not defined"
     ]
    }
   ],
   "source": [
    "\n",
    "model.fit(X=x_train, y=y_train)\n"
   ]
  }
 ],
 "metadata": {
  "kernelspec": {
   "display_name": "venv",
   "language": "python",
   "name": "python3"
  },
  "language_info": {
   "codemirror_mode": {
    "name": "ipython",
    "version": 3
   },
   "file_extension": ".py",
   "mimetype": "text/x-python",
   "name": "python",
   "nbconvert_exporter": "python",
   "pygments_lexer": "ipython3",
   "version": "3.10.10"
  }
 },
 "nbformat": 4,
 "nbformat_minor": 2
}
