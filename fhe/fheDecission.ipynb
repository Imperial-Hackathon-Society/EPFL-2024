{
 "cells": [
  {
   "cell_type": "code",
   "execution_count": 1,
   "metadata": {},
   "outputs": [],
   "source": [
    "from sklearn.decomposition import PCA\n",
    "from sklearn.model_selection import GridSearchCV, train_test_split\n",
    "from sklearn.pipeline import Pipeline\n",
    "\n",
    "\n",
    "import pandas as pd\n",
    "import numpy as np\n",
    "import os \n",
    "\n",
    "from concrete.ml.sklearn.xgb import XGBClassifier\n",
    "from concrete.ml.deployment import FHEModelDev, FHEModelClient, FHEModelServer"
   ]
  },
  {
   "cell_type": "code",
   "execution_count": 2,
   "metadata": {},
   "outputs": [],
   "source": [
    "df = pd.read_csv(\"medical_data.csv\")\n",
    "\n",
    "# print(df.head())\n",
    "# print(df.columns)\n",
    "\n",
    "labels = [\n",
    "    \"Hypertension\",\n",
    "    \"Diabetes\",\n",
    "    \"Asthma\",\n",
    "    \"Coronary Artery Disease\",\n",
    "    \"Chronic Kidney Disease\",\n",
    "    \"Obesity\",\n",
    "    \"Anemia\",\n",
    "    \"Osteoporosis\",\n",
    "    \"Hyperlipidemia\",\n",
    "    \"None\"\n",
    "]\n",
    "\n",
    "FHE_DIRECTORY = 'tmp/fhe_client_server_files/'"
   ]
  },
  {
   "cell_type": "code",
   "execution_count": 3,
   "metadata": {},
   "outputs": [],
   "source": [
    "y_col = \"Label\"\n",
    "\n",
    "X = df.drop(y_col, axis=1)\n",
    "y = df[y_col] - 1\n",
    "\n",
    "X_train, X_test, y_train, y_test = train_test_split(X, y, test_size=0.2, random_state=42)\n",
    "\n"
   ]
  },
  {
   "cell_type": "code",
   "execution_count": 4,
   "metadata": {},
   "outputs": [],
   "source": [
    "# Define our model\n",
    "model = XGBClassifier(n_jobs=1, n_bits=3)\n",
    "\n",
    "pipeline = Pipeline(\n",
    "    [(\"model\", model)]\n",
    ")"
   ]
  },
  {
   "cell_type": "code",
   "execution_count": 5,
   "metadata": {},
   "outputs": [
    {
     "name": "stdout",
     "output_type": "stream",
     "text": [
      "X_train shape: (800, 20)\n",
      "Best parameters found: {'model__max_depth': 3, 'model__n_estimators': 20}\n"
     ]
    }
   ],
   "source": [
    "# Define the parameters to tune\n",
    "param_grid = {\n",
    "    \"model__max_depth\": [2, 3, 5],\n",
    "    \"model__n_estimators\": [5, 10, 20],\n",
    "}\n",
    "\n",
    "# Instantiate the grid search with 5-fold cross validation on all available cores\n",
    "grid = GridSearchCV(pipeline, param_grid, cv=5, n_jobs=-1, scoring=\"accuracy\")\n",
    "\n",
    "# Launch the grid search\n",
    "grid.fit(X_train, y_train)\n",
    "\n",
    "print(f\"X_train shape: {X_train.shape}\")\n",
    "\n",
    "print(f\"Best parameters found: {grid.best_params_}\")"
   ]
  },
  {
   "cell_type": "code",
   "execution_count": 6,
   "metadata": {},
   "outputs": [
    {
     "name": "stdout",
     "output_type": "stream",
     "text": [
      "(800, 20)\n",
      "(800, 20)\n"
     ]
    }
   ],
   "source": [
    "best_pipeline = grid.best_estimator_\n",
    "\n",
    "model = best_pipeline[0]\n",
    "\n",
    "print(X_train.shape)\n",
    "# Transform test set\n",
    "X_train_transformed = X_train\n",
    "X_test_transformed = X_test\n",
    "print(X_train_transformed.shape)"
   ]
  },
  {
   "cell_type": "code",
   "execution_count": 7,
   "metadata": {},
   "outputs": [],
   "source": [
    "# Evaluate the model on the test set in clear\n",
    "y_pred_clear = model.predict(X_test_transformed)\n",
    "# print(f\"Test accuracy in clear: {(y_pred_clear == y_test).mean():0.2f}\")"
   ]
  },
  {
   "cell_type": "code",
   "execution_count": 8,
   "metadata": {},
   "outputs": [
    {
     "data": {
      "text/plain": [
       "<concrete.fhe.compilation.circuit.Circuit at 0x314fceaa0>"
      ]
     },
     "execution_count": 8,
     "metadata": {},
     "output_type": "execute_result"
    }
   ],
   "source": [
    "# Compile the model to FHE\n",
    "model.compile(X_train_transformed)"
   ]
  },
  {
   "cell_type": "code",
   "execution_count": 9,
   "metadata": {},
   "outputs": [
    {
     "name": "stdout",
     "output_type": "stream",
     "text": [
      "     Age_normalized  Blood_Pressure_normalized  Weight_normalized  \\\n",
      "521        0.887428                   0.217349           0.107291   \n",
      "\n",
      "     Cholesterol_normalized  Glucose_level_normalized  Heart_rate_normalized  \\\n",
      "521                0.615363                  0.822276               0.582044   \n",
      "\n",
      "     Respiratory_rate_normalized  Body_Temperature_normalized  \\\n",
      "521                     0.962997                     0.795564   \n",
      "\n",
      "     Oxygen_Saturation_normalized  BMI_normalized  Liver_Function_normalized  \\\n",
      "521                      0.700792        0.060257                   0.107742   \n",
      "\n",
      "     Kidney_Function_normalized  Hemoglobin_normalized  \\\n",
      "521                    0.784838               0.198238   \n",
      "\n",
      "     Platelet_Count_normalized  White_Blood_Cell_Count_normalized  \\\n",
      "521                   0.028835                           0.910761   \n",
      "\n",
      "     Red_Blood_Cell_Count_normalized  Urea_Level_normalized  \\\n",
      "521                         0.890805               0.218484   \n",
      "\n",
      "     Creatinine_Level_normalized  Calcium_Level_normalized  \\\n",
      "521                     0.780206                   0.04798   \n",
      "\n",
      "     Sodium_Level_normalized  \n",
      "521                 0.285058  \n"
     ]
    }
   ],
   "source": [
    "N_TEST_FHE = 1\n",
    "print(X_test_transformed[:N_TEST_FHE])\n",
    "y_pred_fhe = model.predict(X_test_transformed[:N_TEST_FHE], fhe=\"execute\")"
   ]
  },
  {
   "cell_type": "code",
   "execution_count": 10,
   "metadata": {},
   "outputs": [
    {
     "name": "stdout",
     "output_type": "stream",
     "text": [
      "1 examples over 1 have an FHE inference equal to the clear inference.\n",
      "Prediction: Coronary Artery Disease\n"
     ]
    }
   ],
   "source": [
    "print(f\"{(y_pred_fhe == y_pred_clear[:N_TEST_FHE]).sum()} \"\n",
    "      f\"examples over {N_TEST_FHE} have an FHE inference equal to the clear inference.\")\n",
    "\n",
    "\n",
    "print(f\"Prediction: {labels[y_pred_fhe[0]]}\")"
   ]
  },
  {
   "cell_type": "code",
   "execution_count": 11,
   "metadata": {},
   "outputs": [],
   "source": [
    "def delete_directory_recursively(directory):\n",
    "    for root, dirs, files in os.walk(directory, topdown=False):\n",
    "        for name in files:\n",
    "            os.remove(os.path.join(root, name))\n",
    "        for name in dirs:\n",
    "            os.rmdir(os.path.join(root, name))\n",
    "    os.rmdir(directory)\n",
    "\n",
    "# Setup the development environment\n",
    "\n",
    "if os.path.exists(FHE_DIRECTORY):\n",
    "    # Delete the directory recursively if it already exists\n",
    "    delete_directory_recursively(FHE_DIRECTORY)"
   ]
  },
  {
   "cell_type": "code",
   "execution_count": 16,
   "metadata": {},
   "outputs": [
    {
     "name": "stdout",
     "output_type": "stream",
     "text": [
      "New data: [[0.85329019 0.48979363 0.20382468 0.42350831 0.33421152 0.45882316\n",
      "  0.49870113 0.34251145 0.24217051 0.26723796 0.76525345 0.29732267\n",
      "  0.21923485 0.64320382 0.20342162 0.29740966 0.18551907 0.37261177\n",
      "  0.09904469 0.21426128]]\n",
      "Prediction: Asthma\n"
     ]
    }
   ],
   "source": [
    "dev = FHEModelDev(path_dir=FHE_DIRECTORY, model=model)\n",
    "dev.save()\n",
    "\n",
    "# Setup the client\n",
    "client = FHEModelClient(path_dir=FHE_DIRECTORY, key_dir=\"/tmp/keys_client\")\n",
    "serialized_evaluation_keys = client.get_serialized_evaluation_keys()\n",
    "\n",
    "# Client pre-processes new data\n",
    "X_new = np.random.rand(1, 20)\n",
    "print(f\"New data: {X_new}\")\n",
    "encrypted_data = client.quantize_encrypt_serialize(X_new)\n",
    "\n",
    "# Setup the server\n",
    "server = FHEModelServer(path_dir=FHE_DIRECTORY)\n",
    "server.load()\n",
    "\n",
    "# Server processes the encrypted data\n",
    "encrypted_result = server.run(encrypted_data, serialized_evaluation_keys)\n",
    "\n",
    "# Client decrypts the result\n",
    "result = client.deserialize_decrypt_dequantize(encrypted_result)\n",
    "\n",
    "result = labels[np.argmax(result)]\n",
    "print(f\"Prediction: {result}\")"
   ]
  }
 ],
 "metadata": {
  "kernelspec": {
   "display_name": "venv",
   "language": "python",
   "name": "python3"
  },
  "language_info": {
   "codemirror_mode": {
    "name": "ipython",
    "version": 3
   },
   "file_extension": ".py",
   "mimetype": "text/x-python",
   "name": "python",
   "nbconvert_exporter": "python",
   "pygments_lexer": "ipython3",
   "version": "3.10.10"
  }
 },
 "nbformat": 4,
 "nbformat_minor": 2
}
