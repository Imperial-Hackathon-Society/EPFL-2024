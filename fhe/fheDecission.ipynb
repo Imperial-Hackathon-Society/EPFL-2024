{
 "cells": [
  {
   "cell_type": "code",
   "execution_count": 119,
   "metadata": {},
   "outputs": [],
   "source": [
    "from sklearn.decomposition import PCA\n",
    "from sklearn.model_selection import GridSearchCV, train_test_split\n",
    "from sklearn.pipeline import Pipeline\n",
    "from sklearn.preprocessing import StandardScaler\n",
    "\n",
    "import pandas as pd\n",
    "import numpy as np\n",
    "import os \n",
    "\n",
    "from concrete.ml.sklearn.xgb import XGBClassifier\n",
    "from concrete.ml.deployment import FHEModelDev, FHEModelClient, FHEModelServer"
   ]
  },
  {
   "cell_type": "code",
   "execution_count": 107,
   "metadata": {},
   "outputs": [],
   "source": [
    "df = pd.read_csv(\"medical_data.csv\")\n",
    "\n",
    "# print(df.head())\n",
    "# print(df.columns)\n",
    "\n",
    "labels = [\n",
    "    \"Hypertension\",\n",
    "    \"Diabetes\",\n",
    "    \"Asthma\",\n",
    "    \"Coronary Artery Disease\",\n",
    "    \"Chronic Kidney Disease\",\n",
    "    \"Obesity\",\n",
    "    \"Anemia\",\n",
    "    \"Osteoporosis\",\n",
    "    \"Hyperlipidemia\",\n",
    "    \"None\"\n",
    "]\n",
    "\n",
    "FHE_DIRECTORY = 'tmp/fhe_client_server_files/'"
   ]
  },
  {
   "cell_type": "code",
   "execution_count": 108,
   "metadata": {},
   "outputs": [],
   "source": [
    "y_col = \"Label\"\n",
    "\n",
    "X = df.drop(y_col, axis=1)\n",
    "y = df[y_col] - 1\n",
    "\n",
    "X_train, X_test, y_train, y_test = train_test_split(X, y, test_size=0.2, random_state=42)\n",
    "\n"
   ]
  },
  {
   "cell_type": "code",
   "execution_count": 109,
   "metadata": {},
   "outputs": [],
   "source": [
    "# Define our model\n",
    "model = XGBClassifier(n_jobs=1, n_bits=3)\n",
    "\n",
    "pipeline = Pipeline(\n",
    "    [(\"standard_scaler\", StandardScaler()), (\"pca\", PCA(random_state=0)), (\"model\", model)]\n",
    ")"
   ]
  },
  {
   "cell_type": "code",
   "execution_count": 110,
   "metadata": {},
   "outputs": [
    {
     "name": "stdout",
     "output_type": "stream",
     "text": [
      "X_train shape: (800, 20)\n",
      "Best parameters found: {'model__max_depth': 2, 'model__n_estimators': 10, 'pca__n_components': 2}\n"
     ]
    }
   ],
   "source": [
    "# Define the parameters to tune\n",
    "param_grid = {\n",
    "    \"pca__n_components\": [2, 5, 10, 15],\n",
    "    \"model__max_depth\": [2, 3, 5],\n",
    "    \"model__n_estimators\": [5, 10, 20],\n",
    "}\n",
    "\n",
    "# Instantiate the grid search with 5-fold cross validation on all available cores\n",
    "grid = GridSearchCV(pipeline, param_grid, cv=5, n_jobs=-1, scoring=\"accuracy\")\n",
    "\n",
    "# Launch the grid search\n",
    "grid.fit(X_train, y_train)\n",
    "\n",
    "print(f\"X_train shape: {X_train.shape}\")\n",
    "\n",
    "print(f\"Best parameters found: {grid.best_params_}\")"
   ]
  },
  {
   "cell_type": "code",
   "execution_count": 111,
   "metadata": {},
   "outputs": [],
   "source": [
    "best_pipeline = grid.best_estimator_\n",
    "data_transformation_pipeline = best_pipeline[:-1]\n",
    "model = best_pipeline[-1]\n",
    "\n",
    "# Transform test set\n",
    "X_train_transformed = data_transformation_pipeline.transform(X_train)\n",
    "X_test_transformed = data_transformation_pipeline.transform(X_test)"
   ]
  },
  {
   "cell_type": "code",
   "execution_count": 112,
   "metadata": {},
   "outputs": [],
   "source": [
    "# Evaluate the model on the test set in clear\n",
    "y_pred_clear = model.predict(X_test_transformed)\n",
    "# print(f\"Test accuracy in clear: {(y_pred_clear == y_test).mean():0.2f}\")"
   ]
  },
  {
   "cell_type": "code",
   "execution_count": 113,
   "metadata": {},
   "outputs": [
    {
     "data": {
      "text/plain": [
       "<concrete.fhe.compilation.circuit.Circuit at 0x308025480>"
      ]
     },
     "execution_count": 113,
     "metadata": {},
     "output_type": "execute_result"
    }
   ],
   "source": [
    "# Compile the model to FHE\n",
    "model.compile(X_train_transformed)"
   ]
  },
  {
   "cell_type": "code",
   "execution_count": 114,
   "metadata": {},
   "outputs": [],
   "source": [
    "N_TEST_FHE = 10\n",
    "y_pred_fhe = model.predict(X_test_transformed[:N_TEST_FHE], fhe=\"execute\")"
   ]
  },
  {
   "cell_type": "code",
   "execution_count": 115,
   "metadata": {},
   "outputs": [
    {
     "name": "stdout",
     "output_type": "stream",
     "text": [
      "10 examples over 10 have an FHE inference equal to the clear inference.\n",
      "Prediction: Obesity\n"
     ]
    }
   ],
   "source": [
    "print(f\"{(y_pred_fhe == y_pred_clear[:N_TEST_FHE]).sum()} \"\n",
    "      f\"examples over {N_TEST_FHE} have an FHE inference equal to the clear inference.\")\n",
    "\n",
    "\n",
    "print(f\"Prediction: {labels[y_pred_fhe[0]]}\")"
   ]
  },
  {
   "cell_type": "code",
   "execution_count": 134,
   "metadata": {},
   "outputs": [],
   "source": [
    "def delete_directory_recursively(directory):\n",
    "    for root, dirs, files in os.walk(directory, topdown=False):\n",
    "        for name in files:\n",
    "            os.remove(os.path.join(root, name))\n",
    "        for name in dirs:\n",
    "            os.rmdir(os.path.join(root, name))\n",
    "    os.rmdir(directory)\n",
    "\n",
    "# Setup the development environment\n",
    "\n",
    "if os.path.exists(FHE_DIRECTORY):\n",
    "    # Delete the directory recursively if it already exists\n",
    "    delete_directory_recursively(FHE_DIRECTORY)"
   ]
  },
  {
   "cell_type": "code",
   "execution_count": 142,
   "metadata": {},
   "outputs": [
    {
     "name": "stdout",
     "output_type": "stream",
     "text": [
      "New data: [[0.82616204 0.97641661]]\n",
      "Prediction: [[0.10049049 0.10049049 0.10049049 0.10049049 0.11153934 0.10049049\n",
      "  0.10049049 0.11153934 0.07348788 0.10049049]]\n"
     ]
    }
   ],
   "source": [
    "dev = FHEModelDev(path_dir=FHE_DIRECTORY, model=model)\n",
    "dev.save()\n",
    "\n",
    "# Setup the client\n",
    "client = FHEModelClient(path_dir=FHE_DIRECTORY, key_dir=\"/tmp/keys_client\")\n",
    "serialized_evaluation_keys = client.get_serialized_evaluation_keys()\n",
    "\n",
    "# Client pre-processes new data\n",
    "X_new = np.random.rand(1, 2)\n",
    "print(f\"New data: {X_new}\")\n",
    "encrypted_data = client.quantize_encrypt_serialize(X_new)\n",
    "\n",
    "# Setup the server\n",
    "server = FHEModelServer(path_dir=FHE_DIRECTORY)\n",
    "server.load()\n",
    "\n",
    "# Server processes the encrypted data\n",
    "encrypted_result = server.run(encrypted_data, serialized_evaluation_keys)\n",
    "\n",
    "# Client decrypts the result\n",
    "result = client.deserialize_decrypt_dequantize(encrypted_result)\n",
    "print(f\"Prediction: {result}\")"
   ]
  }
 ],
 "metadata": {
  "kernelspec": {
   "display_name": "venv",
   "language": "python",
   "name": "python3"
  },
  "language_info": {
   "codemirror_mode": {
    "name": "ipython",
    "version": 3
   },
   "file_extension": ".py",
   "mimetype": "text/x-python",
   "name": "python",
   "nbconvert_exporter": "python",
   "pygments_lexer": "ipython3",
   "version": "3.10.10"
  }
 },
 "nbformat": 4,
 "nbformat_minor": 2
}
